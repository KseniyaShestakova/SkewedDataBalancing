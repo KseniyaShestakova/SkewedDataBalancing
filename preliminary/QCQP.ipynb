{
 "cells": [
  {
   "cell_type": "code",
   "execution_count": 1,
   "id": "755fcd71",
   "metadata": {},
   "outputs": [],
   "source": [
    "import cvxpy as cp\n",
    "import numpy as np"
   ]
  },
  {
   "cell_type": "markdown",
   "id": "4b2b8559",
   "metadata": {},
   "source": [
    "# Placement with QCQP\n",
    "**Inputs:** $h_1, \\dots, h_{n}, \\mu_1, \\dots, \\mu_n$ (disk heats and throughputs) \\\n",
    "**Output:** Matrix $P = (p_{ij})$, $p_{ij} = 1$ IFF block $i$ is placed to disk $j$ \\\n",
    "**Problem:** Minimize\n",
    "$ X = \\sum_{i=1}^{N} \\left(  \\sum_{j=1}^{n} p_{i_j}\\mu_i h_j - \\sum_{k=1}^{N}\\sum_{j=1}^{n}  \\frac{\\mu_k  h_j}{N}   p_{k_j} \\right)^2 $ where\n",
    "$ \\tilde{H} =  \\frac{1}{N} \\sum_{k=1}^{N} \\mu_k \\left( \\sum_{j=1}^{n} p_{k_j} h_j\\right)$ \\\n",
    "**Constraints:**\n",
    "$p_{i_1} + \\dots + p_{i_{N}} = 1 $\n"
   ]
  },
  {
   "cell_type": "code",
   "execution_count": 56,
   "id": "4f4294bb",
   "metadata": {},
   "outputs": [],
   "source": [
    "def get_x(mu, h):\n",
    "    def pos(i, j):\n",
    "        return j * N + i\n",
    "    \n",
    "    N = len(mu)\n",
    "    n = len(h)\n",
    "    \n",
    "    A = []\n",
    "    for i in range(N):\n",
    "        curr = np.zeros(N * n)\n",
    "        for j in range(n):\n",
    "            curr[pos(i, j)] = mu[i] * h[j]\n",
    "        A.append(curr)\n",
    "    A = np.array(A) \n",
    "\n",
    "    B = []\n",
    "    curr = np.zeros(N * n)\n",
    "    for k in range(N):\n",
    "        for j in range(n):\n",
    "            curr[pos(k, j)] = (mu[k] * h[j]) / N\n",
    "    for i in range(N):\n",
    "        B.append(curr)\n",
    "    B = np.array(B)\n",
    "\n",
    "    C = []\n",
    "    for j in range(n):\n",
    "        curr = np.zeros(N * n)\n",
    "        for i in range(N):\n",
    "            curr[pos(i, j)] = 1\n",
    "        C.append(curr)\n",
    "    C = np.array(C)\n",
    "    \n",
    "    x = cp.Variable(n * N, integer=True)\n",
    "    objective = cp.Minimize(cp.sum_squares(A @ x - B @ x))\n",
    "    constraints = [0 <= x, x <= 1, C @ x == np.ones(n)]\n",
    "    prob = cp.Problem(objective, constraints)\n",
    "\n",
    "    \n",
    "    result = prob.solve()\n",
    "\n",
    "    return x"
   ]
  },
  {
   "cell_type": "code",
   "execution_count": 57,
   "id": "b0fea1a2",
   "metadata": {},
   "outputs": [],
   "source": [
    "N = 4\n",
    "m = 100\n",
    "n = N * m\n",
    "mu = np.ones(N) # disk bandwidths\n",
    "h = np.zeros(n) # block heats\n",
    "\n",
    "for k in range(m):\n",
    "    h[N * k] = 1\n",
    "\n",
    "x = get_x(mu, h)"
   ]
  },
  {
   "cell_type": "code",
   "execution_count": 58,
   "id": "7a680852",
   "metadata": {},
   "outputs": [],
   "source": [
    "def output_placement(x, n, N):\n",
    "    for j in range(n):\n",
    "        for i in range(N):\n",
    "            if x.value[pos(i, j)] == 1:\n",
    "                print('Block {} is placed to disk {}'.format(j, i))"
   ]
  },
  {
   "cell_type": "code",
   "execution_count": 79,
   "id": "44e49c5d",
   "metadata": {},
   "outputs": [],
   "source": [
    "def get_placement(m=100, N=4):\n",
    "    def pos(i, j):\n",
    "        return j * N + i\n",
    "    \n",
    "    n = N * m\n",
    "    placement = np.ones(n, dtype=int)\n",
    "    \n",
    "    mu = np.ones(N) # case of heteroheous disks\n",
    "    \n",
    "    for res in range(N): # split into 4 clusters and find placements separately\n",
    "        h = np.zeros(n)\n",
    "        for k in range(m):\n",
    "            h[N * k + res] = 1\n",
    "            \n",
    "        x = get_x(mu, h)\n",
    "        for k in range(m):\n",
    "            j = N * k + res # find position of this block\n",
    "            for i in range(N):\n",
    "                if x.value[pos(i, j)] == 1:\n",
    "                    placement[j] = i\n",
    "    return placement\n",
    "        "
   ]
  },
  {
   "cell_type": "code",
   "execution_count": 94,
   "id": "47b481ef",
   "metadata": {},
   "outputs": [
    {
     "name": "stdout",
     "output_type": "stream",
     "text": [
      "[256 256 256 256]\n",
      "[256 256 256 256]\n",
      "[256 256 256 256]\n",
      "[256 256 256 256]\n",
      "[3 3 3 ... 3 3 3]\n"
     ]
    }
   ],
   "source": [
    "N = 4\n",
    "m = 1024\n",
    "placement = get_placement(m, N)\n",
    "\n",
    "for res in range(N):\n",
    "    arr = np.zeros(N, dtype=int)\n",
    "    for k in range(m):\n",
    "        j = N * k + res\n",
    "        arr[placement[j]] += 1\n",
    "    print(arr)"
   ]
  },
  {
   "cell_type": "code",
   "execution_count": 99,
   "id": "01079d0e",
   "metadata": {},
   "outputs": [],
   "source": [
    "f = open('synthetic_placement.txt', 'a')\n",
    "for a in placement:\n",
    "    f.write('{} '.format(a))\n",
    "f.close()"
   ]
  },
  {
   "cell_type": "code",
   "execution_count": 63,
   "id": "a9cdcc9b",
   "metadata": {},
   "outputs": [
    {
     "name": "stdout",
     "output_type": "stream",
     "text": [
      "0: [1, 2, 3, 5, 6, 7, 9, 10, 11, 13, 14, 15, 17, 18, 19, 21, 22, 23, 25, 26, 27, 29, 30, 31, 33, 34, 35, 37, 38, 39, 41, 42, 43, 45, 46, 47, 49, 50, 51, 53, 54, 55, 57, 58, 59, 61, 62, 63, 65, 66, 67, 69, 70, 71, 73, 74, 75, 77, 78, 79, 81, 82, 83, 85, 86, 87, 89, 90, 91, 93, 94, 95, 97, 98, 99, 101, 102, 103, 105, 106, 107, 109, 110, 111, 113, 114, 115, 117, 118, 119, 121, 122, 123, 125, 126, 127, 129, 130, 131, 133, 134, 135, 137, 138, 139, 141, 142, 143, 145, 146, 147, 149, 150, 151, 153, 154, 155, 157, 158, 159, 161, 162, 163, 165, 166, 167, 169, 170, 171, 173, 174, 175, 177, 178, 179, 181, 182, 183, 185, 186, 187, 189, 190, 191, 193, 194, 195, 197, 198, 199, 201, 202, 203, 205, 206, 207, 209, 210, 211, 213, 214, 215, 217, 218, 219, 221, 222, 223, 225, 226, 227, 229, 230, 231, 233, 234, 235, 237, 238, 239, 241, 242, 243, 245, 246, 247, 249, 250, 251, 253, 254, 255, 257, 258, 259, 261, 262, 263, 265, 266, 267, 269, 270, 271, 272, 273, 274, 275, 276, 277, 278, 279, 280, 281, 282, 283, 284, 285, 286, 287, 289, 290, 291, 292, 293, 294, 295, 296, 297, 298, 299, 300, 301, 302, 303, 304, 305, 306, 307, 308, 309, 310, 311, 312, 313, 314, 315, 316, 317, 318, 319, 320, 321, 322, 323, 325, 326, 327, 329, 330, 331, 332, 333, 334, 335, 336, 337, 338, 339, 340, 341, 342, 343, 344, 345, 346, 347, 348, 349, 350, 351, 352, 353, 354, 355, 356, 357, 358, 359, 360, 361, 362, 363, 364, 365, 366, 367, 368, 369, 370, 371, 373, 374, 375, 377, 378, 379, 380, 381, 382, 383, 384, 385, 386, 387, 388, 389, 390, 391, 393, 394, 395, 397, 398, 399]\n",
      "1: [4, 8, 12, 20, 40, 44, 80, 84, 88, 92, 96, 100, 108, 228, 236, 240, 244, 248, 252, 256, 264, 328]\n",
      "2: [112, 116, 120, 124, 128, 132, 140, 144, 148, 152, 156, 160, 164, 168, 172, 176, 180, 192, 196, 200, 224, 260, 288, 372, 376]\n",
      "3: [24, 28, 32, 36, 48, 52, 56, 60, 64, 68, 72, 76, 136, 184, 188, 204, 208, 212, 216, 220, 232, 324, 392, 396]\n"
     ]
    }
   ],
   "source": [
    "for i in range(N):\n",
    "    disk_content = []\n",
    "    for j in range(n):\n",
    "        if x.value[pos(i, j)] == 1:\n",
    "            disk_content.append(j)\n",
    "    print('{}: {}'.format(i, disk_content))"
   ]
  },
  {
   "cell_type": "code",
   "execution_count": null,
   "id": "c920d791",
   "metadata": {},
   "outputs": [],
   "source": []
  }
 ],
 "metadata": {
  "kernelspec": {
   "display_name": "Python 3 (ipykernel)",
   "language": "python",
   "name": "python3"
  },
  "language_info": {
   "codemirror_mode": {
    "name": "ipython",
    "version": 3
   },
   "file_extension": ".py",
   "mimetype": "text/x-python",
   "name": "python",
   "nbconvert_exporter": "python",
   "pygments_lexer": "ipython3",
   "version": "3.9.7"
  }
 },
 "nbformat": 4,
 "nbformat_minor": 5
}
